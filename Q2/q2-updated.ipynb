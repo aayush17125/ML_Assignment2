{
 "cells": [
  {
   "cell_type": "code",
   "execution_count": null,
   "metadata": {
    "ExecuteTime": {
     "end_time": "2019-10-10T11:36:37.079437Z",
     "start_time": "2019-10-10T11:36:36.423741Z"
    }
   },
   "outputs": [],
   "source": [
    "import numpy as np\n",
    "import matplotlib.pyplot as plt\n",
    "from sklearn import svm\n",
    "import pickle\n",
    "import pandas as pd\n",
    "import random\n",
    "from sklearn.metrics import confusion_matrix\n",
    "import sklearn.metrics as metrics\n",
    "from sklearn.metrics import roc_curve,auc\n",
    "from sklearn.preprocessing import label_binarize\n",
    "from sklearn.multiclass import OneVsRestClassifier\n",
    "from sklearn import preprocessing"
   ]
  },
  {
   "cell_type": "code",
   "execution_count": null,
   "metadata": {
    "ExecuteTime": {
     "end_time": "2019-10-10T11:36:37.097442Z",
     "start_time": "2019-10-10T11:36:37.093161Z"
    }
   },
   "outputs": [],
   "source": [
    "def unpickle(file):\n",
    "    with open(file, 'rb') as fo:\n",
    "        dict = pickle.load(fo, encoding='bytes')\n",
    "    return dict"
   ]
  },
  {
   "cell_type": "code",
   "execution_count": null,
   "metadata": {
    "ExecuteTime": {
     "end_time": "2019-10-10T11:36:37.395922Z",
     "start_time": "2019-10-10T11:36:37.338858Z"
    }
   },
   "outputs": [],
   "source": [
    "data = unpickle('data_batch_3')"
   ]
  },
  {
   "cell_type": "code",
   "execution_count": null,
   "metadata": {
    "ExecuteTime": {
     "end_time": "2019-10-10T11:36:37.683602Z",
     "start_time": "2019-10-10T11:36:37.679155Z"
    }
   },
   "outputs": [],
   "source": [
    "data_x = data[b'data']\n",
    "data_y = data[b'labels']"
   ]
  },
  {
   "cell_type": "code",
   "execution_count": null,
   "metadata": {
    "ExecuteTime": {
     "end_time": "2019-10-10T11:36:37.983334Z",
     "start_time": "2019-10-10T11:36:37.893013Z"
    }
   },
   "outputs": [],
   "source": [
    "data_x = np.array(data_x)\n",
    "data_y = np.array(data_y)\n",
    "data_y = np.reshape(data_y,(-1,1))\n",
    "print(data_x.shape,data_y.shape)\n",
    "data = np.concatenate((data_x,data_y),axis=1)\n",
    "print(data.shape)        "
   ]
  },
  {
   "cell_type": "code",
   "execution_count": null,
   "metadata": {
    "ExecuteTime": {
     "end_time": "2019-10-10T11:36:38.433144Z",
     "start_time": "2019-10-10T11:36:38.171673Z"
    }
   },
   "outputs": [],
   "source": [
    "d = []\n",
    "for i in range(10):\n",
    "    c = 0\n",
    "    for j in range(10000):\n",
    "        if (c>=500):\n",
    "            break\n",
    "        if (data[j][-1]==i):\n",
    "            d.append(data[j])\n",
    "            c+=1\n",
    "d = np.array(d)\n",
    "np.random.shuffle(d)"
   ]
  },
  {
   "cell_type": "code",
   "execution_count": null,
   "metadata": {
    "ExecuteTime": {
     "end_time": "2019-10-10T11:36:38.700956Z",
     "start_time": "2019-10-10T11:36:38.688893Z"
    }
   },
   "outputs": [],
   "source": [
    "data_x = d[:,:-1]\n",
    "data_y = d[:,-1]\n",
    "\n",
    "print(data_x.shape,data_y.shape)"
   ]
  },
  {
   "cell_type": "code",
   "execution_count": null,
   "metadata": {
    "ExecuteTime": {
     "end_time": "2019-10-10T11:36:39.254031Z",
     "start_time": "2019-10-10T11:36:39.078673Z"
    }
   },
   "outputs": [],
   "source": [
    "train_x = []\n",
    "train_y = []\n",
    "val_x = []\n",
    "val_y = []\n",
    "print(data_x.shape,data_y.shape)\n",
    "s = 1000\n",
    "for i in range(5):\n",
    "    x = np.vstack((data_x[0:i*s],data_x[(i+1)*s:5000]))\n",
    "    y = np.append(data_y[0:i*s],data_y[(i+1)*s:5000])\n",
    "    vx = data_x[i*s:(i+1)*s]\n",
    "    vy = data_y[i*s:(i+1)*s]\n",
    "    train_x.append(x)\n",
    "    train_y.append(y)\n",
    "    val_x.append(vx)\n",
    "    val_y.append(vy)"
   ]
  },
  {
   "cell_type": "code",
   "execution_count": null,
   "metadata": {
    "ExecuteTime": {
     "start_time": "2019-10-10T11:36:40.433Z"
    },
    "scrolled": false
   },
   "outputs": [],
   "source": [
    "for i in range(5):\n",
    "    mod = svm.SVC(kernel='linear',gamma='auto',decision_function_shape='ovr',tol=0.01,probability=True)\n",
    "    x = np.copy(train_x[i])\n",
    "    y = np.copy(train_y[i])\n",
    "    test_x = np.copy(val_x[i])\n",
    "    test_y = np.copy(val_y[i])\n",
    "    mod.fit(x,y)\n",
    "    print(\"Coef=\",mod.coef_)\n",
    "    y_pred = mod.predict(test_x)\n",
    "    print(\"Confusion Martix=\",confusion_matrix(test_y, y_pred))\n",
    "    print(mod.score(test_x,test_y))\n",
    "    y = label_binarize(y,classes=range(10))\n",
    "    test_y = label_binarize(test_y,classes=range(10))\n",
    "    out = mod.decision_function(test_x)\n",
    "    fpr= dict()\n",
    "    tpr = dict()\n",
    "    roc_auc = dict()\n",
    "    for j in range(10):\n",
    "        fpr[j],tpr[j],t = roc_curve(test_y[:,j],out[:,j])\n",
    "        roc_auc[j] = auc(fpr[j],tpr[j])\n",
    "    col = [\"red\",\"green\",\"blue\",\"yellow\",\"pink\",\"black\",\"aqua\",\"cyan\",\"purple\",\"lightgreen\"]\n",
    "    for j,c in zip(range(10),col):\n",
    "        plt.plot(fpr[j],tpr[j],color=c,lw=2,label=(\"ROC curve of class \"+str(j)))\n",
    "    plt.plot([0,1],[0,1],'k--',lw=2)\n",
    "    plt.xlim([0.0,1.0])\n",
    "    plt.ylim([0.0,1.1])\n",
    "    plt.xlabel('False positive rate')\n",
    "    plt.ylabel('True positive rate')\n",
    "    plt.title('For fold = '+str(i))\n",
    "    plt.legend(loc=\"lower right\")\n",
    "    plt.show()"
   ]
  },
  {
   "cell_type": "code",
   "execution_count": null,
   "metadata": {
    "ExecuteTime": {
     "start_time": "2019-10-10T11:36:44.513Z"
    }
   },
   "outputs": [],
   "source": [
    "for i in range(5):\n",
    "    mod = svm.SVC(kernel='linear',gamma='auto',decision_function_shape='ovo',tol=0.01)\n",
    "    x = train_x[i]\n",
    "    y = train_y[i]\n",
    "    mod.fit(x,y)\n",
    "    print(\"Coef=\",mod.coef_)\n",
    "    y_pred = mod.predict(val_x[i])\n",
    "    print(\"Confusion Martix=\",confusion_matrix(val_y[i], y_pred))\n",
    "    print(mod.score(val_x[i],val_y[i]))\n",
    "    y = label_binarize(y,classes=range(10))\n",
    "    test_y = label_binarize(test_y,classes=range(10))\n",
    "    out = mod.decision_function(test_x)\n",
    "    fpr= dict()\n",
    "    tpr = dict()\n",
    "    roc_auc = dict()\n",
    "    for j in range(10):\n",
    "        fpr[j],tpr[j],t = roc_curve(test_y[:,j],out[:,j])\n",
    "        roc_auc[j] = auc(fpr[j],tpr[j])\n",
    "    col = [\"red\",\"green\",\"blue\",\"yellow\",\"pink\",\"black\",\"aqua\",\"cyan\",\"purple\",\"lightgreen\"]\n",
    "    for j,c in zip(range(10),col):\n",
    "        plt.plot(fpr[j],tpr[j],color=c,lw=2,label=(\"ROC curve of class \"+str(j)))\n",
    "    plt.plot([0,1],[0,1],'k--',lw=2)\n",
    "    plt.xlim([0.0,1.0])\n",
    "    plt.ylim([0.0,1.1])\n",
    "    plt.xlabel('False positive rate')\n",
    "    plt.ylabel('True positive rate')\n",
    "    plt.title('For fold = '+str(i))\n",
    "    plt.legend(loc=\"lower right\")\n",
    "    plt.show()"
   ]
  },
  {
   "cell_type": "code",
   "execution_count": null,
   "metadata": {
    "ExecuteTime": {
     "start_time": "2019-10-10T11:37:58.377Z"
    },
    "scrolled": false
   },
   "outputs": [],
   "source": [
    "for i in range(5):\n",
    "    mod = svm.SVC(kernel='rbf',gamma='scale',decision_function_shape='ovr',tol=0.01)\n",
    "    x = np.copy(train_x[i])\n",
    "    y = np.copy(train_y[i])\n",
    "    test_x = np.copy(val_x[i])\n",
    "    test_y = np.copy(val_y[i])\n",
    "    mod.fit(x,y)\n",
    "    y_pred = mod.predict(test_x)\n",
    "    print(\"Confusion Martix=\",confusion_matrix(test_y, y_pred))\n",
    "    print(mod.score(test_x,test_y))\n",
    "    y = label_binarize(y,classes=range(10))\n",
    "    test_y = label_binarize(test_y,classes=range(10))\n",
    "    out = mod.decision_function(test_x)\n",
    "    fpr= dict()\n",
    "    tpr = dict()\n",
    "    roc_auc = dict()\n",
    "    for j in range(10):\n",
    "        fpr[j],tpr[j],t = roc_curve(test_y[:,j],out[:,j])\n",
    "        roc_auc[j] = auc(fpr[j],tpr[j])\n",
    "    col = [\"red\",\"green\",\"blue\",\"yellow\",\"pink\",\"black\",\"aqua\",\"cyan\",\"purple\",\"lightgreen\"]\n",
    "    for j,c in zip(range(10),col):\n",
    "        plt.plot(fpr[j],tpr[j],color=c,lw=2,label=(\"ROC curve of class \"+str(j)))\n",
    "    plt.plot([0,1],[0,1],'k--',lw=2)\n",
    "    plt.xlim([0.0,1.0])\n",
    "    plt.ylim([0.0,1.1])\n",
    "    plt.xlabel('False positive rate')\n",
    "    plt.ylabel('True positive rate')\n",
    "    plt.title('For fold = '+str(i))\n",
    "    plt.legend(loc=\"lower right\")\n",
    "    plt.show()"
   ]
  },
  {
   "cell_type": "code",
   "execution_count": null,
   "metadata": {
    "ExecuteTime": {
     "start_time": "2019-10-10T11:39:25.033Z"
    }
   },
   "outputs": [],
   "source": [
    "for i in range(5):\n",
    "    mod = svm.SVC(kernel='rbf',gamma='scale',decision_function_shape='ovo',tol=0.01)\n",
    "    x = np.copy(train_x[i])\n",
    "    y = np.copy(train_y[i])\n",
    "    test_x = np.copy(val_x[i])\n",
    "    test_y = np.copy(val_y[i])\n",
    "    mod.fit(x,y)\n",
    "    y_pred = mod.predict(test_x)\n",
    "    print(\"Confusion Martix=\",confusion_matrix(test_y, y_pred))\n",
    "    print(mod.score(test_x,test_y))\n",
    "    y = label_binarize(y,classes=range(10))\n",
    "    test_y = label_binarize(test_y,classes=range(10))\n",
    "    out = mod.decision_function(test_x)\n",
    "    fpr= dict()\n",
    "    tpr = dict()\n",
    "    roc_auc = dict()\n",
    "    for j in range(10):\n",
    "        fpr[j],tpr[j],t = roc_curve(test_y[:,j],out[:,j])\n",
    "        roc_auc[j] = auc(fpr[j],tpr[j])\n",
    "    col = [\"red\",\"green\",\"blue\",\"yellow\",\"pink\",\"black\",\"aqua\",\"cyan\",\"purple\",\"lightgreen\"]\n",
    "    for j,c in zip(range(10),col):\n",
    "        plt.plot(fpr[j],tpr[j],color=c,lw=2,label=(\"ROC curve of class \"+str(j)))\n",
    "    plt.plot([0,1],[0,1],'k--',lw=2)\n",
    "    plt.xlim([0.0,1.0])\n",
    "    plt.ylim([0.0,1.1])\n",
    "    plt.xlabel('False positive rate')\n",
    "    plt.ylabel('True positive rate')\n",
    "    plt.title('For fold = '+str(i))\n",
    "    plt.legend(loc=\"lower right\")\n",
    "    plt.show()"
   ]
  },
  {
   "cell_type": "code",
   "execution_count": null,
   "metadata": {
    "ExecuteTime": {
     "start_time": "2019-10-10T11:39:25.137Z"
    }
   },
   "outputs": [],
   "source": [
    "for i in range(5):\n",
    "    mod = svm.SVC(kernel='poly',gamma='scale',degree=2,decision_function_shape='ovr',tol=0.01)\n",
    "    x = np.copy(train_x[i])\n",
    "    y = np.copy(train_y[i])\n",
    "    test_x = np.copy(val_x[i])\n",
    "    test_y = np.copy(val_y[i])\n",
    "    mod.fit(x,y)\n",
    "    y_pred = mod.predict(test_x)\n",
    "    print(\"Confusion Martix=\",confusion_matrix(test_y, y_pred))\n",
    "    print(mod.score(test_x,test_y))\n",
    "    y = label_binarize(y,classes=range(10))\n",
    "    test_y = label_binarize(test_y,classes=range(10))\n",
    "    out = mod.decision_function(test_x)\n",
    "    fpr= dict()\n",
    "    tpr = dict()\n",
    "    roc_auc = dict()\n",
    "    for j in range(10):\n",
    "        fpr[j],tpr[j],t = roc_curve(test_y[:,j],out[:,j])\n",
    "        roc_auc[j] = auc(fpr[j],tpr[j])\n",
    "    col = [\"red\",\"green\",\"blue\",\"yellow\",\"pink\",\"black\",\"aqua\",\"cyan\",\"purple\",\"lightgreen\"]\n",
    "    for j,c in zip(range(10),col):\n",
    "        plt.plot(fpr[j],tpr[j],color=c,lw=2,label=(\"ROC curve of class \"+str(j)))\n",
    "    plt.plot([0,1],[0,1],'k--',lw=2)\n",
    "    plt.xlim([0.0,1.0])\n",
    "    plt.ylim([0.0,1.1])\n",
    "    plt.xlabel('False positive rate')\n",
    "    plt.ylabel('True positive rate')\n",
    "    plt.title('For fold = '+str(i))\n",
    "    plt.legend(loc=\"lower right\")\n",
    "    plt.show()"
   ]
  },
  {
   "cell_type": "code",
   "execution_count": null,
   "metadata": {
    "ExecuteTime": {
     "start_time": "2019-10-10T11:39:25.357Z"
    },
    "scrolled": false
   },
   "outputs": [],
   "source": [
    "for i in range(5):\n",
    "    mod = svm.SVC(kernel='poly',gamma='scale',degree=2,decision_function_shape='ovo',tol=0.01)\n",
    "    x = np.copy(train_x[i])\n",
    "    y = np.copy(train_y[i])\n",
    "    test_x = np.copy(val_x[i])\n",
    "    test_y = np.copy(val_y[i])\n",
    "    mod.fit(x,y)\n",
    "    y_pred = mod.predict(test_x)\n",
    "    print(\"Confusion Martix=\",confusion_matrix(test_y, y_pred))\n",
    "    print(mod.score(test_x,test_y))\n",
    "    y = label_binarize(y,classes=range(10))\n",
    "    test_y = label_binarize(test_y,classes=range(10))\n",
    "    out = mod.decision_function(test_x)\n",
    "    fpr= dict()\n",
    "    tpr = dict()\n",
    "    roc_auc = dict()\n",
    "    for j in range(10):\n",
    "        fpr[j],tpr[j],t = roc_curve(test_y[:,j],out[:,j])\n",
    "        roc_auc[j] = auc(fpr[j],tpr[j])\n",
    "    col = [\"red\",\"green\",\"blue\",\"yellow\",\"pink\",\"black\",\"aqua\",\"cyan\",\"purple\",\"lightgreen\"]\n",
    "    for j,c in zip(range(10),col):\n",
    "        plt.plot(fpr[j],tpr[j],color=c,lw=2,label=(\"ROC curve of class \"+str(j)))\n",
    "    plt.plot([0,1],[0,1],'k--',lw=2)\n",
    "    plt.xlim([0.0,1.0])\n",
    "    plt.ylim([0.0,1.1])\n",
    "    plt.xlabel('False positive rate')\n",
    "    plt.ylabel('True positive rate')\n",
    "    plt.title('For fold = '+str(i))\n",
    "    plt.legend(loc=\"lower right\")\n",
    "    plt.show()"
   ]
  }
 ],
 "metadata": {
  "kernelspec": {
   "display_name": "Python 3",
   "language": "python",
   "name": "python3"
  },
  "language_info": {
   "codemirror_mode": {
    "name": "ipython",
    "version": 3
   },
   "file_extension": ".py",
   "mimetype": "text/x-python",
   "name": "python",
   "nbconvert_exporter": "python",
   "pygments_lexer": "ipython3",
   "version": "3.7.3"
  },
  "varInspector": {
   "cols": {
    "lenName": 16,
    "lenType": 16,
    "lenVar": 40
   },
   "kernels_config": {
    "python": {
     "delete_cmd_postfix": "",
     "delete_cmd_prefix": "del ",
     "library": "var_list.py",
     "varRefreshCmd": "print(var_dic_list())"
    },
    "r": {
     "delete_cmd_postfix": ") ",
     "delete_cmd_prefix": "rm(",
     "library": "var_list.r",
     "varRefreshCmd": "cat(var_dic_list()) "
    }
   },
   "types_to_exclude": [
    "module",
    "function",
    "builtin_function_or_method",
    "instance",
    "_Feature"
   ],
   "window_display": false
  }
 },
 "nbformat": 4,
 "nbformat_minor": 2
}
