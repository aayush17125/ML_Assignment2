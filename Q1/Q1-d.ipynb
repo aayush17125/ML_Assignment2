{
 "cells": [
  {
   "cell_type": "code",
   "execution_count": 1,
   "metadata": {
    "ExecuteTime": {
     "end_time": "2019-10-10T10:28:11.494792Z",
     "start_time": "2019-10-10T10:28:06.651428Z"
    }
   },
   "outputs": [],
   "source": [
    "import numpy as np\n",
    "import math\n",
    "import h5py\n",
    "import matplotlib.pyplot as plt\n",
    "from scipy import stats\n",
    "from sklearn import svm\n",
    "from mlxtend.plotting import plot_decision_regions\n",
    "from sklearn.utils import shuffle"
   ]
  },
  {
   "cell_type": "code",
   "execution_count": 2,
   "metadata": {
    "ExecuteTime": {
     "end_time": "2019-10-10T10:28:11.524713Z",
     "start_time": "2019-10-10T10:28:11.503077Z"
    }
   },
   "outputs": [],
   "source": [
    "def linear_predict(data_x,coef,intercept):\n",
    "    pred_y = ((coef@data_x.T).T)+intercept\n",
    "    for i in range(len(pred_y)):\n",
    "        if (pred_y[i]<0.5):\n",
    "            pred_y[i] = 0\n",
    "        else:\n",
    "            pred_y[i] = 1\n",
    "    return pred_y\n",
    "def accuracy(pred,given):\n",
    "    s = 0\n",
    "    for i in range(len(pred)):\n",
    "        if (pred[i]==given[i]):\n",
    "            s+=1\n",
    "    return s*100/len(pred)\n",
    "    "
   ]
  },
  {
   "cell_type": "code",
   "execution_count": 3,
   "metadata": {
    "ExecuteTime": {
     "end_time": "2019-10-10T10:28:11.846635Z",
     "start_time": "2019-10-10T10:28:11.536012Z"
    }
   },
   "outputs": [],
   "source": [
    "def rbfKernel(x,y):\n",
    "    ans = [0]*len(x)\n",
    "    g = 0.7\n",
    "    for i in range(len(x)):\n",
    "        k=[0]*len(y)\n",
    "        for j in range(len(y)):\n",
    "            t = np.linalg.norm(x[i]-y[j])\n",
    "            t = t**2\n",
    "            t = -g*t\n",
    "            t = np.exp(t) \n",
    "            k[j]=t\n",
    "        ans[i] = k\n",
    "    return ans\n",
    "def get_sv(train,mod):\n",
    "    sv = []\n",
    "    for i in mod.support_:\n",
    "        sv.append(train[i])\n",
    "    return np.array(sv)\n",
    "def pred(test,sv,mod):\n",
    "    ans = []\n",
    "    for i in range(len(test)):\n",
    "        t = 0\n",
    "        for j in range(len(sv)):\n",
    "            t+=mod.dual_coef_[0][j]*np.exp(-0.7*np.linalg.norm(test[i]-sv[j])**2)\n",
    "        t+=mod.intercept_\n",
    "        ans.append(t)\n",
    "    return ans\n",
    "def rbfPredict(test,train,mod):\n",
    "    sv = get_sv(train,mod)\n",
    "    ans = pred(test,sv,mod)\n",
    "    return ans\n",
    "def comp(pred):\n",
    "    for i in range(len(pred)):\n",
    "        if (pred[i]<0):\n",
    "            pred[i]=0\n",
    "        else:\n",
    "            pred[i]=1\n",
    "    return pred\n",
    "def accuracy_rbf(pred,given):\n",
    "    s = 0\n",
    "    pred = comp(pred)\n",
    "    for i in range(len(pred)):\n",
    "        if (pred[i]==given[i]):\n",
    "            s+=1\n",
    "    return s*100/len(pred)"
   ]
  },
  {
   "cell_type": "code",
   "execution_count": 4,
   "metadata": {
    "ExecuteTime": {
     "end_time": "2019-10-10T10:28:36.403937Z",
     "start_time": "2019-10-10T10:28:11.854240Z"
    }
   },
   "outputs": [
    {
     "name": "stdout",
     "output_type": "stream",
     "text": [
      "---------Linear-----------\n",
      "My accuracy for test = 56.05263157894737\n",
      "My accuracy for train = 51.81040157998683\n",
      "SVC accuracy for test = 56.05263157894736\n",
      "SVC accuracy for train = 51.81040157998683\n",
      "-----------RBF-----------\n",
      "SVC accuracy for test = 86.8421052631579\n",
      "My accuracy for test = 86.84210526315789\n",
      "SVC accuracy for train = 88.21593153390388\n",
      "My accuracy for train = 88.0184331797235\n"
     ]
    }
   ],
   "source": [
    "f1 = h5py.File('data_4.h5','r+') \n",
    "list(f1.keys())\n",
    "X1 = f1['x']\n",
    "y1=f1['y']\n",
    "df1= np.array(X1[()])\n",
    "dfy1= np.array(y1[()])\n",
    "\n",
    "z = np.abs(stats.zscore(df1))\n",
    "out = np.where(z>2)\n",
    "cdf1 = []\n",
    "cdfy1 = []\n",
    "for i in range(len(df1)):\n",
    "    if (i not in out[0]):\n",
    "        cdf1.append(df1[i])\n",
    "        cdfy1.append(dfy1[i])\n",
    "df1 = np.array(cdf1)\n",
    "dfy1= np.array(cdfy1)\n",
    "df1,dfy1 = shuffle(df1,dfy1)\n",
    "size = df1.shape[0]\n",
    "train_x = df1[0:4*size//5]\n",
    "train_y = dfy1[0:4*size//5]\n",
    "val_x = df1[4*size//5:size]\n",
    "val_y = dfy1[4*size//5:size]\n",
    "mod = svm.SVC(kernel='linear')\n",
    "mod.fit(train_x,train_y)\n",
    "my_pred = linear_predict(val_x,mod.coef_,mod.intercept_)\n",
    "print('---------Linear-----------')\n",
    "print('My accuracy for test =',accuracy(my_pred,val_y))\n",
    "\n",
    "my_pred = linear_predict(train_x,mod.coef_,mod.intercept_)\n",
    "print('My accuracy for train =',accuracy(my_pred,train_y))\n",
    "\n",
    "t = mod.predict(val_x)\n",
    "print('SVC accuracy for test =',100*mod.score(val_x,val_y))\n",
    "t = mod.predict(train_x)\n",
    "print('SVC accuracy for train =',100*mod.score(train_x,train_y))\n",
    "print('-----------RBF-----------')\n",
    "mod = svm.SVC(kernel='rbf',gamma='scale')\n",
    "mod.fit(train_x,train_y)\n",
    "mod_self = svm.SVC(kernel=rbfKernel)\n",
    "mod_self.fit(train_x,train_y)\n",
    "print('SVC accuracy for test =',100*mod.score(val_x,val_y))\n",
    "self_pred = rbfPredict(val_x,train_x,mod_self)\n",
    "print('My accuracy for test =',accuracy_rbf(self_pred,val_y))\n",
    "\n",
    "print('SVC accuracy for train =',100*mod.score(train_x,train_y))\n",
    "self_pred = rbfPredict(train_x,train_x,mod_self)\n",
    "print('My accuracy for train =',accuracy_rbf(self_pred,train_y))"
   ]
  },
  {
   "cell_type": "code",
   "execution_count": 5,
   "metadata": {
    "ExecuteTime": {
     "end_time": "2019-10-10T10:29:01.366770Z",
     "start_time": "2019-10-10T10:28:36.405401Z"
    },
    "scrolled": true
   },
   "outputs": [
    {
     "name": "stdout",
     "output_type": "stream",
     "text": [
      "---------Linear-----------\n",
      "My accuracy for test = 78.87700534759358\n",
      "My accuracy for train = 82.62032085561498\n",
      "SVC accuracy for test = 81.81818181818183\n",
      "SVC accuracy for train = 83.62299465240642\n",
      "-----------RBF-----------\n",
      "SVC accuracy for test = 87.16577540106952\n",
      "My accuracy for test = 86.89839572192513\n",
      "SVC accuracy for train = 87.5\n",
      "My accuracy for train = 87.23262032085562\n"
     ]
    }
   ],
   "source": [
    "f1 = h5py.File('data_5.h5','r+') \n",
    "list(f1.keys())\n",
    "X1 = f1['x']\n",
    "y1=f1['y']\n",
    "df1= np.array(X1[()])\n",
    "dfy1= np.array(y1[()])\n",
    "z = np.abs(stats.zscore(df1))\n",
    "out = np.where(z>2)\n",
    "cdf1 = []\n",
    "cdfy1 = []\n",
    "for i in range(len(df1)):\n",
    "    if (i not in out[0]):\n",
    "        cdf1.append(df1[i])\n",
    "        cdfy1.append(dfy1[i])\n",
    "df1 = np.array(cdf1)\n",
    "dfy1= np.array(cdfy1)\n",
    "df1,dfy1 = shuffle(df1,dfy1)\n",
    "size = df1.shape[0]\n",
    "train_x = df1[0:4*size//5]\n",
    "train_y = dfy1[0:4*size//5]\n",
    "val_x = df1[4*size//5:size]\n",
    "val_y = dfy1[4*size//5:size]\n",
    "mod = svm.SVC(kernel='linear')\n",
    "mod.fit(train_x,train_y)\n",
    "my_pred = linear_predict(val_x,mod.coef_,mod.intercept_)\n",
    "print('---------Linear-----------')\n",
    "print('My accuracy for test =',accuracy(my_pred,val_y))\n",
    "\n",
    "my_pred = linear_predict(train_x,mod.coef_,mod.intercept_)\n",
    "print('My accuracy for train =',accuracy(my_pred,train_y))\n",
    "\n",
    "t = mod.predict(val_x)\n",
    "print('SVC accuracy for test =',100*mod.score(val_x,val_y))\n",
    "t = mod.predict(train_x)\n",
    "print('SVC accuracy for train =',100*mod.score(train_x,train_y))\n",
    "print('-----------RBF-----------')\n",
    "mod = svm.SVC(kernel='rbf',gamma='scale')\n",
    "mod.fit(train_x,train_y)\n",
    "mod_self = svm.SVC(kernel=rbfKernel)\n",
    "mod_self.fit(train_x,train_y)\n",
    "print('SVC accuracy for test =',100*mod.score(val_x,val_y))\n",
    "self_pred = rbfPredict(val_x,train_x,mod_self)\n",
    "print('My accuracy for test =',accuracy_rbf(self_pred,val_y))\n",
    "\n",
    "print('SVC accuracy for train =',100*mod.score(train_x,train_y))\n",
    "self_pred = rbfPredict(train_x,train_x,mod_self)\n",
    "print('My accuracy for train =',accuracy_rbf(self_pred,train_y))"
   ]
  }
 ],
 "metadata": {
  "kernelspec": {
   "display_name": "Python 3",
   "language": "python",
   "name": "python3"
  },
  "language_info": {
   "codemirror_mode": {
    "name": "ipython",
    "version": 3
   },
   "file_extension": ".py",
   "mimetype": "text/x-python",
   "name": "python",
   "nbconvert_exporter": "python",
   "pygments_lexer": "ipython3",
   "version": "3.7.3"
  },
  "varInspector": {
   "cols": {
    "lenName": 16,
    "lenType": 16,
    "lenVar": 40
   },
   "kernels_config": {
    "python": {
     "delete_cmd_postfix": "",
     "delete_cmd_prefix": "del ",
     "library": "var_list.py",
     "varRefreshCmd": "print(var_dic_list())"
    },
    "r": {
     "delete_cmd_postfix": ") ",
     "delete_cmd_prefix": "rm(",
     "library": "var_list.r",
     "varRefreshCmd": "cat(var_dic_list()) "
    }
   },
   "types_to_exclude": [
    "module",
    "function",
    "builtin_function_or_method",
    "instance",
    "_Feature"
   ],
   "window_display": false
  }
 },
 "nbformat": 4,
 "nbformat_minor": 2
}
